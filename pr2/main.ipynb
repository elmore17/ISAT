{
 "cells": [
  {
   "cell_type": "code",
   "execution_count": 3,
   "id": "91882566-6bf0-43b9-b023-03ad02ed077a",
   "metadata": {},
   "outputs": [
    {
     "ename": "ModuleNotFoundError",
     "evalue": "No module named 'pandas'",
     "output_type": "error",
     "traceback": [
      "\u001b[0;31m---------------------------------------------------------------------------\u001b[0m",
      "\u001b[0;31mModuleNotFoundError\u001b[0m                       Traceback (most recent call last)",
      "Cell \u001b[0;32mIn[3], line 1\u001b[0m\n\u001b[0;32m----> 1\u001b[0m \u001b[38;5;28;01mimport\u001b[39;00m \u001b[38;5;21;01mpandas\u001b[39;00m \u001b[38;5;28;01mas\u001b[39;00m \u001b[38;5;21;01mpd\u001b[39;00m\n\u001b[1;32m      2\u001b[0m \u001b[38;5;28;01mimport\u001b[39;00m \u001b[38;5;21;01mmath\u001b[39;00m\n\u001b[1;32m      3\u001b[0m \u001b[38;5;28;01mfrom\u001b[39;00m \u001b[38;5;21;01mcollections\u001b[39;00m \u001b[38;5;28;01mimport\u001b[39;00m Counter\n",
      "\u001b[0;31mModuleNotFoundError\u001b[0m: No module named 'pandas'"
     ]
    }
   ],
   "source": [
    "import pandas as pd\n",
    "import math\n",
    "from collections import Counter"
   ]
  },
  {
   "cell_type": "code",
   "execution_count": 6,
   "id": "e3648e3b-cfbf-49a9-bb2f-b18cd9091b7c",
   "metadata": {},
   "outputs": [],
   "source": [
    "# Функция для преобразования времени (часы и минуты) в количество минут с начала суток\n",
    "def timestamp_to_minutes(timestamp):\n",
    "    # Обрабатываем строки вида \"Час:Минуты\"\n",
    "    if pd.isna(timestamp):\n",
    "        return None\n",
    "    return timestamp.hour * 60 + timestamp.minute"
   ]
  },
  {
   "cell_type": "code",
   "execution_count": 8,
   "id": "a3132482-a91c-49a0-ac71-eee7b2dd695a",
   "metadata": {},
   "outputs": [],
   "source": [
    "def load_data_from_excel(file_path):\n",
    "    # Загружаем данные\n",
    "    df = pd.read_excel(file_path)\n",
    "    \n",
    "    # Оставляем нужные колонки\n",
    "    df = df[['Укажите Ваш пол', 'Какой напиток Вы предпочитаете утром?', 'Укажите Ваш возраст', \n",
    "             'Насколько здоровый образ жизни Вы ведете? Укажите число по шкале от 0 до 100', \n",
    "             'Курите ли Вы?','Укажите цвет Вашего левого глаза', 'Много ли Вы испытываете стресса в жизни? Укажите число от 0 до 100',\n",
    "             'Вы высыпаетесь?', 'Укажите Ваш хронотип', 'Во сколько Вы обычно просыпаетесь? Укажите время в формате \"Час\" и \"Минуты\"',\n",
    "             'Сколько Вы в среднем спите? Укажите среди время вашего сна', 'Если поблизости с Вашим домом кофейня?', \n",
    "             'Вы работаете из офиса?', 'Вы домосед?', 'У Вас есть хронические заболевания?', \n",
    "             'Какой рукой Вы пишите?']]\n",
    "    #Выкинули \"знаки зодиака\" тк с ними очень низкая точнось\n",
    "    # Преобразование категориальных данных в числовые\n",
    "    gender_mapping = {'Мужчина': 0, 'Женщина': 1}\n",
    "    drink_mapping = {'Чай': 0, 'Кофе': 1}\n",
    "    smoking_mapping = {'Да': 1, 'Нет': 0}\n",
    "    eye_color = {'Серо-зеленый': 0, 'Зелёный': 1, 'Голубой': 2, 'Карий': 3, 'Серый': 4, 'Серо-голубой': 5 }\n",
    "    sleep_quality_mapping = {'Да': 1, 'Нет': 0}\n",
    "    chronotype_mapping = {'Жаворонок': 0, 'Сова': 1}\n",
    "    coffee_shop_mapping = {'Да': 1, 'Нет': 0}\n",
    "    gourmet_mapping = {'Да': 1, 'Нет': 0}\n",
    "    office_worker_mapping = {'Да': 1, 'Нет': 0}\n",
    "    homebody_mapping = {'Да': 1, 'Нет': 0}\n",
    "    chronic_diseases_mapping = {'Да': 1, 'Нет': 0}\n",
    "    writing_hand_mapping = {'Левой': 0, 'Правой': 1}\n",
    "    zodiac_mapping = {\n",
    "        'Овен': 0, 'Телец': 1, 'Близнецы': 2, 'Рак': 3, 'Лев': 4, 'Дева': 5, 'Весы': 6, \n",
    "        'Скорпион': 7, 'Стрелец': 8, 'Козерог': 9, 'Водолей': 10, 'Рыбы': 11\n",
    "    }\n",
    "    \n",
    "    # Применение маппингов\n",
    "    df['Укажите Ваш пол'] = df['Укажите Ваш пол'].map(gender_mapping)\n",
    "    df['Какой напиток Вы предпочитаете утром?'] = df['Какой напиток Вы предпочитаете утром?'].map(drink_mapping)\n",
    "    df['Курите ли Вы?'] = df['Курите ли Вы?'].map(smoking_mapping)\n",
    "    df['Укажите цвет Вашего левого глаза'] = df['Укажите цвет Вашего левого глаза'].map(eye_color)\n",
    "    df['Вы высыпаетесь?'] = df['Вы высыпаетесь?'].map(sleep_quality_mapping)\n",
    "    df['Укажите Ваш хронотип'] = df['Укажите Ваш хронотип'].map(chronotype_mapping)\n",
    "    df['Если поблизости с Вашим домом кофейня?'] = df['Если поблизости с Вашим домом кофейня?'].map(coffee_shop_mapping)\n",
    "    df['Вы работаете из офиса?'] = df['Вы работаете из офиса?'].map(office_worker_mapping)\n",
    "    df['Вы домосед?'] = df['Вы домосед?'].map(homebody_mapping)\n",
    "    df['У Вас есть хронические заболевания?'] = df['У Вас есть хронические заболевания?'].map(chronic_diseases_mapping)\n",
    "    df['Какой рукой Вы пишите?'] = df['Какой рукой Вы пишите?'].map(writing_hand_mapping)\n",
    "    df['Во сколько Вы обычно просыпаетесь? Укажите время в формате \"Час\" и \"Минуты\"'] = pd.to_datetime(df['Во сколько Вы обычно просыпаетесь? Укажите время в формате \"Час\" и \"Минуты\"'], format=\"%d.%m.%Y %H:%M:%S\")\n",
    "    df['Во сколько Вы обычно просыпаетесь? Укажите время в формате \"Час\" и \"Минуты\"'] = df['Во сколько Вы обычно просыпаетесь? Укажите время в формате \"Час\" и \"Минуты\"'].apply(timestamp_to_minutes)\n",
    "    \n",
    "    # Преобразуем DataFrame в список списков\n",
    "    dataset = df.values.tolist()\n",
    "    \n",
    "    return dataset"
   ]
  },
  {
   "cell_type": "code",
   "execution_count": 10,
   "id": "9d93ba2c-d183-4a9f-9191-b374ac515e00",
   "metadata": {},
   "outputs": [],
   "source": [
    "# Функция для расчета евклидова расстояния между двумя точками\n",
    "def euclidean_distance(row1, row2):\n",
    "    distance = 0.0\n",
    "    for i in range(len(row1)-1):  # исключаем последний элемент, т.к. это метка класса\n",
    "        distance += (row1[i] - row2[i]) ** 2\n",
    "    return math.sqrt(distance)"
   ]
  },
  {
   "cell_type": "code",
   "execution_count": 12,
   "id": "cc2c21b3-a6e9-4886-921f-a6a720c61386",
   "metadata": {},
   "outputs": [],
   "source": [
    "# Функция для поиска k ближайших соседей\n",
    "def get_neighbors(train, test_row, k):\n",
    "    distances = []\n",
    "    for train_row in train:\n",
    "        dist = euclidean_distance(test_row, train_row)\n",
    "        distances.append((train_row, dist))\n",
    "    distances.sort(key=lambda x: x[1])  # сортируем по расстоянию\n",
    "    neighbors = [distances[i][0] for i in range(k)]  # выбираем k ближайших\n",
    "    return neighbors"
   ]
  },
  {
   "cell_type": "code",
   "execution_count": 14,
   "id": "6337ed12-28bd-4b10-8d7f-623f59cea586",
   "metadata": {},
   "outputs": [],
   "source": [
    "# Функция для предсказания класса на основе голосования соседей\n",
    "def predict_classification(train, test_row, k):\n",
    "    neighbors = get_neighbors(train, test_row, k)\n",
    "    output_values = [row[-1] for row in neighbors]  # метки классов соседей\n",
    "    prediction = Counter(output_values).most_common(1)[0][0]  # класс с наибольшим количеством голосов\n",
    "    return prediction"
   ]
  },
  {
   "cell_type": "code",
   "execution_count": 16,
   "id": "0a3d209b-bc7c-4be6-bc05-66b92200885e",
   "metadata": {},
   "outputs": [],
   "source": [
    "# Оценка точности\n",
    "def accuracy_metric(actual, predicted):\n",
    "    correct = sum(a == p for a, p in zip(actual, predicted))\n",
    "    return correct / len(actual) if len(actual) > 0 else 0"
   ]
  },
  {
   "cell_type": "code",
   "execution_count": 66,
   "id": "8990d0c0-b714-42b1-b470-f42d21cb84ca",
   "metadata": {},
   "outputs": [],
   "source": [
    "# Разделим данные на тренировочные и тестовые\n",
    "def train_test_split(dataset, split_ratio=0.8):\n",
    "    train_size = int(len(dataset) * split_ratio)\n",
    "    train_set = dataset[:train_size]\n",
    "    test_set = dataset[train_size:]\n",
    "    return train_set, test_set"
   ]
  },
  {
   "cell_type": "code",
   "execution_count": 68,
   "id": "b087907c-ef81-42fb-83d9-db074b9f0138",
   "metadata": {},
   "outputs": [],
   "source": [
    "def min_max_normalize(dataset):\n",
    "    dataset_transposed = list(zip(*dataset))\n",
    "    \n",
    "    normalized_data = []\n",
    "    \n",
    "    for i in range(len(dataset_transposed) - 1):  # пропускаем последний столбец, это метка класса\n",
    "        column = dataset_transposed[i]\n",
    "        col_min = min(column)\n",
    "        col_max = max(column)\n",
    "        normalized_column = [(x - col_min) / (col_max - col_min) if col_max != col_min else 0 for x in column]\n",
    "        normalized_data.append(normalized_column)\n",
    "\n",
    "    normalized_data.append(dataset_transposed[-1])\n",
    "    normalized_data = list(zip(*normalized_data))\n",
    "    normalized_data = [list(row) for row in normalized_data]\n",
    "    \n",
    "    return normalized_data"
   ]
  },
  {
   "cell_type": "code",
   "execution_count": 112,
   "id": "32c03dc0-8572-4393-b261-64c3fbc2bdf5",
   "metadata": {},
   "outputs": [],
   "source": [
    "file_path = 'result_the_survey.xlsx'\n",
    "dataset = load_data_from_excel(file_path)\n",
    "normalize = min_max_normalize(dataset)"
   ]
  },
  {
   "cell_type": "code",
   "execution_count": 114,
   "id": "708f0061-50d9-4369-92d1-ca5291ca338f",
   "metadata": {},
   "outputs": [],
   "source": [
    "train_set, test_set = train_test_split(normalize)"
   ]
  },
  {
   "cell_type": "code",
   "execution_count": 146,
   "id": "182275ef-9881-49bf-8223-b8f12bb4ee8d",
   "metadata": {},
   "outputs": [],
   "source": [
    "# Прогнозируем для тестовой выборки\n",
    "predictions = []\n",
    "for row in test_set:\n",
    "    prediction = predict_classification(train_set, row, k=1)\n",
    "    predictions.append(prediction)"
   ]
  },
  {
   "cell_type": "code",
   "execution_count": 148,
   "id": "847e018c-32a3-46c3-a767-3344af0f1a9c",
   "metadata": {},
   "outputs": [],
   "source": [
    "# Фактические классы тестовой выборки\n",
    "actual = [row[-1] for row in test_set]"
   ]
  },
  {
   "cell_type": "code",
   "execution_count": 150,
   "id": "dc817e04-5ec8-40ef-b676-0abbad5421c5",
   "metadata": {},
   "outputs": [],
   "source": [
    "def analyze_k(train_set, test_set, actual, k_values):\n",
    "    accuracy_results = {}\n",
    "\n",
    "    for k in k_values:\n",
    "        predictions = []\n",
    "        for row in test_set:\n",
    "            prediction = predict_classification(train_set, row, k)\n",
    "            predictions.append(prediction)\n",
    "\n",
    "        # Рассчитываем точность для данного k\n",
    "        accuracy = accuracy_metric(actual, predictions)\n",
    "        accuracy_results[k] = accuracy\n",
    "        print(f'k={k}, Точность: {accuracy:.2f}')\n",
    "\n",
    "    return accuracy_results"
   ]
  },
  {
   "cell_type": "code",
   "execution_count": 152,
   "id": "1baef881-7180-44bf-b2ab-860dc6c05bd6",
   "metadata": {},
   "outputs": [],
   "source": [
    "k_values = range(1, 21)"
   ]
  },
  {
   "cell_type": "code",
   "execution_count": 154,
   "id": "339184fe-82ef-4e8e-bc57-118721f38d95",
   "metadata": {},
   "outputs": [
    {
     "name": "stdout",
     "output_type": "stream",
     "text": [
      "k=1, Точность: 0.88\n",
      "k=2, Точность: 0.88\n",
      "k=3, Точность: 0.88\n",
      "k=4, Точность: 0.88\n",
      "k=5, Точность: 0.88\n",
      "k=6, Точность: 0.88\n",
      "k=7, Точность: 0.88\n",
      "k=8, Точность: 0.88\n",
      "k=9, Точность: 0.88\n",
      "k=10, Точность: 0.88\n",
      "k=11, Точность: 0.88\n",
      "k=12, Точность: 0.88\n",
      "k=13, Точность: 0.88\n",
      "k=14, Точность: 0.88\n",
      "k=15, Точность: 0.88\n",
      "k=16, Точность: 0.88\n",
      "k=17, Точность: 0.88\n",
      "k=18, Точность: 0.88\n",
      "k=19, Точность: 0.88\n",
      "k=20, Точность: 0.88\n"
     ]
    }
   ],
   "source": [
    "accuracy_results = analyze_k(train_set, test_set, actual, k_values)"
   ]
  },
  {
   "cell_type": "code",
   "execution_count": 156,
   "id": "ee4f7ad1-f4f3-4922-90cd-a1af6f186086",
   "metadata": {},
   "outputs": [
    {
     "name": "stdout",
     "output_type": "stream",
     "text": [
      "Лучшее значение k: 1, с точностью: 0.88\n"
     ]
    }
   ],
   "source": [
    "# Находим лучшее k\n",
    "best_k = max(accuracy_results, key=accuracy_results.get)\n",
    "print(f'Лучшее значение k: {best_k}, с точностью: {accuracy_results[best_k]:.2f}')"
   ]
  },
  {
   "cell_type": "code",
   "execution_count": 158,
   "id": "0fa7239c-edca-4d28-9d2d-a8c39be1a247",
   "metadata": {},
   "outputs": [
    {
     "name": "stdout",
     "output_type": "stream",
     "text": [
      "Фактические значения: [0.0, 1.0, 1.0, 1.0, 1.0, 1.0, 1.0, 1.0]\n",
      "Предсказанные значения: [0.0, 1.0, 1.0, 1.0, 0.0, 1.0, 1.0, 1.0]\n"
     ]
    }
   ],
   "source": [
    "print(f'Фактические значения: {actual}')\n",
    "print(f'Предсказанные значения: {predictions}')"
   ]
  },
  {
   "cell_type": "code",
   "execution_count": 160,
   "id": "f8056faf-9c18-4997-b079-93347c6a1510",
   "metadata": {},
   "outputs": [
    {
     "name": "stdout",
     "output_type": "stream",
     "text": [
      "Точность: 0.875\n"
     ]
    }
   ],
   "source": [
    "# Оценим точность\n",
    "accuracy = accuracy_metric(actual, predictions)\n",
    "print(f'Точность: {accuracy}')"
   ]
  },
  {
   "cell_type": "code",
   "execution_count": 226,
   "id": "7e1db281-4f71-4d55-9388-9ccc283d4fa3",
   "metadata": {},
   "outputs": [],
   "source": [
    "import pickle"
   ]
  },
  {
   "cell_type": "code",
   "execution_count": 228,
   "id": "d43e670a-c5ae-4ff9-a8b6-c8d452544a76",
   "metadata": {},
   "outputs": [],
   "source": [
    "with open('trained_model.pkl', 'wb') as model_file:\n",
    "    pickle.dump(train_set, model_file)"
   ]
  },
  {
   "cell_type": "code",
   "execution_count": 236,
   "id": "c53a1b63-6132-4236-8bb1-a8685b027f1a",
   "metadata": {},
   "outputs": [
    {
     "name": "stdout",
     "output_type": "stream",
     "text": [
      "Предсказанный напиток для нового пользователя: кофе\n"
     ]
    }
   ],
   "source": [
    "with open('trained_model.pkl', 'rb') as model_file:\n",
    "    loaded_model = pickle.load(model_file)\n",
    "\n",
    "# Используйте загруженную модель для предсказаний\n",
    "test_user = [1,21,70,1,5,40,1,1,355,8,1,0,0,0,0]\n",
    "predicted_drink = predict_classification(loaded_model, test_user, k=5)\n",
    "\n",
    "drink_mapping_reverse = {0: 'чай', 1: 'кофе'}\n",
    "print(f'Предсказанный напиток для нового пользователя: {drink_mapping_reverse[predicted_drink]}')"
   ]
  },
  {
   "cell_type": "code",
   "execution_count": null,
   "id": "a152e44e-8c8c-4d81-8dc2-53341ebb9168",
   "metadata": {},
   "outputs": [],
   "source": []
  }
 ],
 "metadata": {
  "kernelspec": {
   "display_name": "Python 3 (ipykernel)",
   "language": "python",
   "name": "python3"
  },
  "language_info": {
   "codemirror_mode": {
    "name": "ipython",
    "version": 3
   },
   "file_extension": ".py",
   "mimetype": "text/x-python",
   "name": "python",
   "nbconvert_exporter": "python",
   "pygments_lexer": "ipython3",
   "version": "3.12.4"
  }
 },
 "nbformat": 4,
 "nbformat_minor": 5
}
